{
 "cells": [
  {
   "cell_type": "code",
   "execution_count": 1,
   "metadata": {},
   "outputs": [
    {
     "name": "stdout",
     "output_type": "stream",
     "text": [
      "Enter the radius of the circle: 4\n",
      "Area of circle is 50.26548245743669\n"
     ]
    }
   ],
   "source": [
    "import math\n",
    "def area_of_circle(r): \n",
    "    a = r**2 * math.pi\n",
    "    return a\n",
    "\n",
    "r = float(input(\"Enter the radius of the circle: \"))\n",
    "print(\"Area of circle is\", area_of_circle(r))"
   ]
  },
  {
   "cell_type": "code",
   "execution_count": 2,
   "metadata": {},
   "outputs": [
    {
     "name": "stdout",
     "output_type": "stream",
     "text": [
      "Enter the number of sides: 5\n",
      "Enter the side: 2\n",
      "6.881909602355869\n"
     ]
    }
   ],
   "source": [
    "import math\n",
    "if __name__==\"__main__\":\n",
    "      num_sides = int(input(\"Enter the number of sides: \"))\n",
    "side_length = float(input(\"Enter the side: \"))\n",
    "def polygon_area(n_sides, length):\n",
    "            area = (n_sides * (length ** 2)) / (4 * math.tan((math.pi) / n_sides))\n",
    "            print(area)\n",
    "\n",
    "polygon_area(num_sides, side_length)"
   ]
  },
  {
   "cell_type": "code",
   "execution_count": 3,
   "metadata": {},
   "outputs": [
    {
     "name": "stdout",
     "output_type": "stream",
     "text": [
      "Enter the length of the diameter:   4\n",
      " Enter the chord length:          3\n",
      "The area of segment of circle is  1.407934832627481\n"
     ]
    }
   ],
   "source": [
    "import math\n",
    "diamStr=input(\"Enter the length of the diameter:   \")\n",
    "d=int(diamStr)\n",
    "chordStr = input( \" Enter the chord length:          \")\n",
    "chord = int(chordStr)\n",
    "radius = (d/2)\n",
    "theta = math.acos((radius**2 + radius**2 - chord**2)/(2*radius**2))\n",
    "area = 1/2 * (theta - math.sin(theta)) * radius**2\n",
    "print(\"The area of segment of circle is \",area)"
   ]
  },
  {
   "cell_type": "code",
   "execution_count": 4,
   "metadata": {},
   "outputs": [
    {
     "name": "stdout",
     "output_type": "stream",
     "text": [
      "The orginal list is:[100, 1, 2, 3, 30, 40, 'hai', 'hello']\n",
      "The shuffled list is:['hai', 3, 2, 'hello', 40, 1, 30, 100]\n"
     ]
    }
   ],
   "source": [
    "import random\n",
    "test_list=[100,1,2,3,30,40,\"hai\",\"hello\"]\n",
    "print(\"The orginal list is:\"+ str(test_list))\n",
    "random.shuffle(test_list)\n",
    "print(\"The shuffled list is:\"+ str(test_list))"
   ]
  },
  {
   "cell_type": "code",
   "execution_count": 5,
   "metadata": {},
   "outputs": [
    {
     "name": "stdout",
     "output_type": "stream",
     "text": [
      "A random number between 1 and 10000 is:0.3707989610884418\n",
      "A random number from range 1 and 50 is:12\n"
     ]
    }
   ],
   "source": [
    "print(\"A random number between 1 and 10000 is:\",end=\"\")\n",
    "print(random.random())\n",
    "print(\"A random number from range 1 and 50 is:\",end=\"\")\n",
    "print(random.randrange(1,50))"
   ]
  },
  {
   "cell_type": "code",
   "execution_count": 6,
   "metadata": {},
   "outputs": [
    {
     "name": "stdout",
     "output_type": "stream",
     "text": [
      "-0.3048106211022167\n",
      "-0.5984600690578582\n",
      "-1.995200412208242\n",
      "0.9784113245910249\n",
      "390625.0\n",
      "20.0\n",
      "79.432125413701\n",
      "10.0\n",
      "3.010299956639812\n",
      "24\n",
      "23\n"
     ]
    }
   ],
   "source": [
    "import math\n",
    "print(math.sin(60))\n",
    "print(math.cos(180))\n",
    "print(math.tan(90))\n",
    "print(math.sinh(0.8660254037844386))\n",
    "print(math.pow(5,8))\n",
    "print(math.sqrt(400))\n",
    "print(math.pow(5,2.71828))\n",
    "print(math.log2(1024))\n",
    "print(math.log10(1024))\n",
    "print(math.ceil(23.56))\n",
    "print(math.floor(23.56))"
   ]
  },
  {
   "cell_type": "code",
   "execution_count": null,
   "metadata": {},
   "outputs": [],
   "source": []
  }
 ],
 "metadata": {
  "kernelspec": {
   "display_name": "Python 3",
   "language": "python",
   "name": "python3"
  },
  "language_info": {
   "codemirror_mode": {
    "name": "ipython",
    "version": 3
   },
   "file_extension": ".py",
   "mimetype": "text/x-python",
   "name": "python",
   "nbconvert_exporter": "python",
   "pygments_lexer": "ipython3",
   "version": "3.8.3"
  }
 },
 "nbformat": 4,
 "nbformat_minor": 4
}
